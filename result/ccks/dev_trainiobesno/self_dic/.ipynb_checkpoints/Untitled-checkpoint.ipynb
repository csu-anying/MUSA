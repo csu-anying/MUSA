{
 "cells": [
  {
   "cell_type": "code",
   "execution_count": 1,
   "metadata": {
    "pycharm": {
     "name": "#%%\n"
    }
   },
   "outputs": [
    {
     "name": "stderr",
     "output_type": "stream",
     "text": [
      "C:\\anaconda\\lib\\site-packages\\ipykernel_launcher.py:5: H5pyDeprecationWarning: The default file mode will change to 'r' (read-only) in h5py 3.0. To suppress this warning, pass the mode you need to h5py.File(), or set the global default h5.get_config().default_file_mode, or set the environment variable H5PY_DEFAULT_READONLY=1. Available modes are: 'r', 'r+', 'w', 'w-'/'x', 'a'. See the docs for details.\n",
      "  \"\"\"\n"
     ]
    }
   ],
   "source": [
    "import h5py\n",
    "\n",
    "weight_file_path = 'crf.h5'\n",
    "\n",
    "f = h5py.File('crf.h5')\n",
    "\n",
    "try:\n",
    "#     if len(f.attrs.items()):\n",
    "#         print(\"{} contains: \".format(weight_file_path),'\\n')\n",
    "#         print(\"Root attributes:'\\n'\")\n",
    "    for key, value in f.attrs.items():\n",
    "#         print(\"  {}: {}\".format(key, value),'\\n')  # 输出储存在File类中的attrs信息，一般是各层的名称\n",
    "        if key == 'model_config':\n",
    "            q = value\n",
    "#     for layer, g in f.items():  # 读取各层的名称以及包含层信息的Group类\n",
    "#         print(\"  {}\".format(layer),'\\n')\n",
    "#         print(\"    Attributes:\",'\\n')\n",
    "#         for key, value in g.attrs.items(): # 输出储存在Group类中的attrs信息，一般是各层的weights和bias及他们的名称\n",
    "#             print(\"      {}: {}\".format(key, value),'\\n')  \n",
    "\n",
    "# #         print(\"    Dataset:\",'\\n')\n",
    "# #         for name, d in g.items(): # 读取各层储存具体信息的Dataset类\n",
    "# #             print(\"      {}: {}\".format(name, d.value.shape),'\\n') # 输出储存在Dataset中的层名称和权重，也可以打印dataset的attrs，但是keras中是空的\n",
    "# #             print(\"      {}: {}\".format(name. d.value),'\\n')\n",
    "finally:\n",
    "    f.close()"
   ]
  },
  {
   "cell_type": "code",
   "execution_count": 2,
   "metadata": {
    "pycharm": {
     "name": "#%%\n"
    }
   },
   "outputs": [
    {
     "data": {
      "text/plain": [
       "b'{\"class_name\": \"Model\", \"config\": {\"name\": \"model_1\", \"layers\": [{\"name\": \"word_input\", \"class_name\": \"InputLayer\", \"config\": {\"batch_input_shape\": [null, 200], \"dtype\": \"int32\", \"sparse\": false, \"name\": \"word_input\"}, \"inbound_nodes\": []}, {\"name\": \"word_emb\", \"class_name\": \"Embedding\", \"config\": {\"name\": \"word_emb\", \"trainable\": true, \"batch_input_shape\": [null, 200], \"dtype\": \"float32\", \"input_dim\": 4176, \"output_dim\": 200, \"embeddings_initializer\": {\"class_name\": \"RandomUniform\", \"config\": {\"minval\": -0.05, \"maxval\": 0.05, \"seed\": null}}, \"embeddings_regularizer\": null, \"activity_regularizer\": null, \"embeddings_constraint\": null, \"mask_zero\": true, \"input_length\": 200}, \"inbound_nodes\": [[[\"word_input\", 0, 0, {}]]]}, {\"name\": \"bidirectional_1\", \"class_name\": \"Bidirectional\", \"config\": {\"name\": \"bidirectional_1\", \"trainable\": true, \"layer\": {\"class_name\": \"LSTM\", \"config\": {\"name\": \"lstm_1\", \"trainable\": true, \"return_sequences\": true, \"return_state\": false, \"go_backwards\": false, \"stateful\": false, \"unroll\": false, \"units\": 128, \"activation\": \"tanh\", \"recurrent_activation\": \"hard_sigmoid\", \"use_bias\": true, \"kernel_initializer\": {\"class_name\": \"VarianceScaling\", \"config\": {\"scale\": 1.0, \"mode\": \"fan_avg\", \"distribution\": \"uniform\", \"seed\": null}}, \"recurrent_initializer\": {\"class_name\": \"Orthogonal\", \"config\": {\"gain\": 1.0, \"seed\": null}}, \"bias_initializer\": {\"class_name\": \"Zeros\", \"config\": {}}, \"unit_forget_bias\": true, \"kernel_regularizer\": null, \"recurrent_regularizer\": null, \"bias_regularizer\": null, \"activity_regularizer\": null, \"kernel_constraint\": null, \"recurrent_constraint\": null, \"bias_constraint\": null, \"dropout\": 0.0, \"recurrent_dropout\": 0.0, \"implementation\": 1}}, \"merge_mode\": \"concat\"}, \"inbound_nodes\": [[[\"word_emb\", 0, 0, {}]]]}, {\"name\": \"Multi-Head\", \"class_name\": \"MultiHeadAttention\", \"config\": {\"name\": \"Multi-Head\", \"trainable\": true, \"head_num\": 200, \"activation\": \"relu\", \"use_bias\": true, \"kernel_initializer\": {\"class_name\": \"VarianceScaling\", \"config\": {\"scale\": 1.0, \"mode\": \"fan_avg\", \"distribution\": \"normal\", \"seed\": null}}, \"bias_initializer\": {\"class_name\": \"Zeros\", \"config\": {}}, \"kernel_regularizer\": null, \"bias_regularizer\": null, \"kernel_constraint\": null, \"bias_constraint\": null, \"history_only\": false}, \"inbound_nodes\": [[[\"word_emb\", 0, 0, {}]]]}, {\"name\": \"dropout_2\", \"class_name\": \"Dropout\", \"config\": {\"name\": \"dropout_2\", \"trainable\": true, \"rate\": 0.1, \"noise_shape\": null, \"seed\": null}, \"inbound_nodes\": [[[\"bidirectional_1\", 0, 0, {}]]]}, {\"name\": \"dropout_1\", \"class_name\": \"Dropout\", \"config\": {\"name\": \"dropout_1\", \"trainable\": true, \"rate\": 0.1, \"noise_shape\": null, \"seed\": null}, \"inbound_nodes\": [[[\"Multi-Head\", 0, 0, {}]]]}, {\"name\": \"batch_normalization_2\", \"class_name\": \"BatchNormalization\", \"config\": {\"name\": \"batch_normalization_2\", \"trainable\": true, \"axis\": -1, \"momentum\": 0.99, \"epsilon\": 0.001, \"center\": true, \"scale\": true, \"beta_initializer\": {\"class_name\": \"Zeros\", \"config\": {}}, \"gamma_initializer\": {\"class_name\": \"Ones\", \"config\": {}}, \"moving_mean_initializer\": {\"class_name\": \"Zeros\", \"config\": {}}, \"moving_variance_initializer\": {\"class_name\": \"Ones\", \"config\": {}}, \"beta_regularizer\": null, \"gamma_regularizer\": null, \"beta_constraint\": null, \"gamma_constraint\": null}, \"inbound_nodes\": [[[\"dropout_2\", 0, 0, {}]]]}, {\"name\": \"batch_normalization_1\", \"class_name\": \"BatchNormalization\", \"config\": {\"name\": \"batch_normalization_1\", \"trainable\": true, \"axis\": -1, \"momentum\": 0.99, \"epsilon\": 0.001, \"center\": true, \"scale\": true, \"beta_initializer\": {\"class_name\": \"Zeros\", \"config\": {}}, \"gamma_initializer\": {\"class_name\": \"Ones\", \"config\": {}}, \"moving_mean_initializer\": {\"class_name\": \"Zeros\", \"config\": {}}, \"moving_variance_initializer\": {\"class_name\": \"Ones\", \"config\": {}}, \"beta_regularizer\": null, \"gamma_regularizer\": null, \"beta_constraint\": null, \"gamma_constraint\": null}, \"inbound_nodes\": [[[\"dropout_1\", 0, 0, {}]]]}, {\"name\": \"concatenate_1\", \"class_name\": \"Concatenate\", \"config\": {\"name\": \"concatenate_1\", \"trainable\": true, \"axis\": 2}, \"inbound_nodes\": [[[\"batch_normalization_2\", 0, 0, {}], [\"batch_normalization_1\", 0, 0, {}]]]}, {\"name\": \"time_distributed_1\", \"class_name\": \"TimeDistributed\", \"config\": {\"name\": \"time_distributed_1\", \"trainable\": true, \"layer\": {\"class_name\": \"Dense\", \"config\": {\"name\": \"dense_1\", \"trainable\": true, \"units\": 19, \"activation\": \"linear\", \"use_bias\": true, \"kernel_initializer\": {\"class_name\": \"VarianceScaling\", \"config\": {\"scale\": 1.0, \"mode\": \"fan_avg\", \"distribution\": \"uniform\", \"seed\": null}}, \"bias_initializer\": {\"class_name\": \"Zeros\", \"config\": {}}, \"kernel_regularizer\": null, \"bias_regularizer\": null, \"activity_regularizer\": null, \"kernel_constraint\": null, \"bias_constraint\": null}}}, \"inbound_nodes\": [[[\"concatenate_1\", 0, 0, {}]]]}, {\"name\": \"crf_1\", \"class_name\": \"CRF\", \"config\": {\"name\": \"crf_1\", \"trainable\": true, \"units\": 19, \"learn_mode\": \"join\", \"test_mode\": \"viterbi\", \"use_boundary\": true, \"use_bias\": true, \"sparse_target\": true, \"kernel_initializer\": {\"class_name\": \"VarianceScaling\", \"config\": {\"scale\": 1.0, \"mode\": \"fan_avg\", \"distribution\": \"uniform\", \"seed\": null}}, \"chain_initializer\": {\"class_name\": \"Orthogonal\", \"config\": {\"gain\": 1.0, \"seed\": null}}, \"boundary_initializer\": {\"class_name\": \"Zeros\", \"config\": {}}, \"bias_initializer\": {\"class_name\": \"Zeros\", \"config\": {}}, \"activation\": \"linear\", \"kernel_regularizer\": null, \"chain_regularizer\": null, \"boundary_regularizer\": null, \"bias_regularizer\": null, \"kernel_constraint\": null, \"chain_constraint\": null, \"boundary_constraint\": null, \"bias_constraint\": null, \"input_dim\": 19, \"unroll\": false}, \"inbound_nodes\": [[[\"time_distributed_1\", 0, 0, {}]]]}], \"input_layers\": [[\"word_input\", 0, 0]], \"output_layers\": [[\"crf_1\", 0, 0]]}}'"
      ]
     },
     "execution_count": 2,
     "metadata": {},
     "output_type": "execute_result"
    }
   ],
   "source": [
    "q"
   ]
  },
  {
   "cell_type": "code",
   "execution_count": null,
   "metadata": {
    "pycharm": {
     "name": "#%%\n"
    }
   },
   "outputs": [],
   "source": []
  }
 ],
 "metadata": {
  "kernelspec": {
   "display_name": "Python 3",
   "language": "python",
   "name": "python3"
  },
  "language_info": {
   "codemirror_mode": {
    "name": "ipython",
    "version": 3
   },
   "file_extension": ".py",
   "mimetype": "text/x-python",
   "name": "python",
   "nbconvert_exporter": "python",
   "pygments_lexer": "ipython3",
   "version": "3.7.8"
  }
 },
 "nbformat": 4,
 "nbformat_minor": 4
}